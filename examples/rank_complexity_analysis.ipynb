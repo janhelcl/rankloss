{
 "cells": [
  {
   "cell_type": "code",
   "execution_count": 1,
   "id": "25f6148e",
   "metadata": {},
   "outputs": [],
   "source": [
    "import inspect\n",
    "import time\n",
    "import sys\n",
    "sys.path.append('..')\n",
    "\n",
    "import numpy as np\n",
    "import matplotlib.pyplot as plt\n",
    "from tqdm import tqdm\n",
    "from memory_profiler import memory_usage\n",
    "\n",
    "import rankloss"
   ]
  },
  {
   "cell_type": "code",
   "execution_count": 2,
   "id": "e1785d41",
   "metadata": {},
   "outputs": [
    {
     "name": "stdout",
     "output_type": "stream",
     "text": [
      "def approx_ranks(preds, alpha=100):\n",
      "    \"\"\"\n",
      "    Computes approximate ranks\n",
      "    \"\"\"\n",
      "    s_x, s_y = preds, preds\n",
      "    s_xy = s_x.reshape(-1, 1) - s_y\n",
      "    pairs = jnp.exp(-alpha*s_xy) / (1 + jnp.exp(-alpha*s_xy))\n",
      "    return .5 + jnp.sum(pairs, axis=1)\n",
      "\n"
     ]
    }
   ],
   "source": [
    "print(inspect.getsource(rankloss.approx_ranks))"
   ]
  },
  {
   "cell_type": "code",
   "execution_count": 3,
   "id": "2e576c70",
   "metadata": {},
   "outputs": [
    {
     "name": "stdout",
     "output_type": "stream",
     "text": [
      "def fast_approx_ranks(preds):\n",
      "    \"\"\"\n",
      "    \"\"\"\n",
      "    return jax_ops.soft_rank(preds)\n",
      "\n"
     ]
    }
   ],
   "source": [
    "print(inspect.getsource(rankloss.fast_approx_ranks))"
   ]
  },
  {
   "cell_type": "code",
   "execution_count": null,
   "id": "6b09b0a3",
   "metadata": {},
   "outputs": [
    {
     "name": "stderr",
     "output_type": "stream",
     "text": [
      "  0%|                                                                                          | 0/1000 [00:00<?, ?it/s]WARNING:absl:No GPU/TPU found, falling back to CPU. (Set TF_CPP_MIN_LOG_LEVEL=0 and rerun for more info.)\n",
      " 79%|██████████████████████████████████████████████████████████████▉                 | 786/1000 [06:01<03:27,  1.03it/s]"
     ]
    }
   ],
   "source": [
    "times_fast = []\n",
    "times = []\n",
    "spaces_fast = []\n",
    "spaces = []\n",
    "for n in tqdm(range(1, 10_000, 10)):\n",
    "    preds = np.random.normal(size=n)\n",
    "\n",
    "    start = time.time()\n",
    "    space = max(memory_usage((rankloss.fast_approx_ranks, (preds,)), interval=.001))\n",
    "    end = time.time()\n",
    "    times_fast.append(end-start)\n",
    "    spaces_fast.append(space)\n",
    "    \n",
    "    start = time.time()\n",
    "    space = max(memory_usage((rankloss.approx_ranks, (preds,)), interval=.001))\n",
    "    end = time.time()\n",
    "    times.append(end-start)\n",
    "    spaces.append(space)\n",
    "    \n",
    "fig, (ax1, ax2) = plt.subplots(1, 2, figsize=(2*6.4, 4.8))\n",
    "fig.suptitle('Time and space complexity')\n",
    "ax1.set_xlabel('n')\n",
    "ax1.set_ylabel('Time Complexity')\n",
    "ax1.plot(range(1, 10_000, 10), times_fast, label='fast_approx_ranks')\n",
    "ax1.plot(range(1, 10_000, 10), times, label='approx_ranks')\n",
    "ax1.grid()\n",
    "ax1.legend()\n",
    "ax2.set_xlabel('n')\n",
    "ax2.set_ylabel('Space Complexity')\n",
    "ax2.plot(range(1, 10_000, 10), spaces_fast, label='fast_approx_ranks')\n",
    "ax2.plot(range(1, 10_000, 10), spaces, label='approx_ranks')\n",
    "ax2.grid()\n",
    "ax2.legend()\n",
    "plt.show()"
   ]
  }
 ],
 "metadata": {
  "kernelspec": {
   "display_name": "venv_dev",
   "language": "python",
   "name": "venv_dev"
  },
  "language_info": {
   "codemirror_mode": {
    "name": "ipython",
    "version": 3
   },
   "file_extension": ".py",
   "mimetype": "text/x-python",
   "name": "python",
   "nbconvert_exporter": "python",
   "pygments_lexer": "ipython3",
   "version": "3.8.10"
  }
 },
 "nbformat": 4,
 "nbformat_minor": 5
}
